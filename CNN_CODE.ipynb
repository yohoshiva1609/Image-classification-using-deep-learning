{
 "cells": [
  {
   "cell_type": "code",
   "execution_count": 2,
   "metadata": {},
   "outputs": [],
   "source": [
    "from keras.models import Sequential\n",
    "from keras.layers import Convolution2D\n",
    "from keras.layers import MaxPooling2D\n",
    "from keras.layers import Flatten\n",
    "from keras.layers import Dense"
   ]
  },
  {
   "cell_type": "code",
   "execution_count": 3,
   "metadata": {},
   "outputs": [],
   "source": [
    "classifier = Sequential()"
   ]
  },
  {
   "cell_type": "code",
   "execution_count": 4,
   "metadata": {},
   "outputs": [
    {
     "name": "stderr",
     "output_type": "stream",
     "text": [
      "C:\\Users\\Joshuva\\.conda\\envs\\tensorflow_cpu\\lib\\site-packages\\ipykernel_launcher.py:1: UserWarning: Update your `Conv2D` call to the Keras 2 API: `Conv2D(32, (3, 3), input_shape=(64, 64, 3..., activation=\"relu\")`\n",
      "  \"\"\"Entry point for launching an IPython kernel.\n"
     ]
    }
   ],
   "source": [
    "classifier.add(Convolution2D(32,3,3,input_shape=(64,64,3),activation='relu'))"
   ]
  },
  {
   "cell_type": "code",
   "execution_count": 5,
   "metadata": {},
   "outputs": [
    {
     "name": "stdout",
     "output_type": "stream",
     "text": [
      "WARNING:tensorflow:From C:\\Users\\Joshuva\\.conda\\envs\\tensorflow_cpu\\lib\\site-packages\\keras\\backend\\tensorflow_backend.py:4070: The name tf.nn.max_pool is deprecated. Please use tf.nn.max_pool2d instead.\n",
      "\n"
     ]
    }
   ],
   "source": [
    "classifier.add(MaxPooling2D(pool_size=(2,2)))"
   ]
  },
  {
   "cell_type": "code",
   "execution_count": 6,
   "metadata": {},
   "outputs": [],
   "source": [
    "classifier.add(Flatten())"
   ]
  },
  {
   "cell_type": "code",
   "execution_count": 7,
   "metadata": {},
   "outputs": [
    {
     "name": "stderr",
     "output_type": "stream",
     "text": [
      "C:\\Users\\Joshuva\\.conda\\envs\\tensorflow_cpu\\lib\\site-packages\\ipykernel_launcher.py:1: UserWarning: Update your `Dense` call to the Keras 2 API: `Dense(activation=\"relu\", units=128)`\n",
      "  \"\"\"Entry point for launching an IPython kernel.\n"
     ]
    }
   ],
   "source": [
    "classifier.add(Dense(output_dim=128,activation='relu'))"
   ]
  },
  {
   "cell_type": "code",
   "execution_count": 8,
   "metadata": {},
   "outputs": [
    {
     "name": "stderr",
     "output_type": "stream",
     "text": [
      "C:\\Users\\Joshuva\\.conda\\envs\\tensorflow_cpu\\lib\\site-packages\\ipykernel_launcher.py:1: UserWarning: Update your `Dense` call to the Keras 2 API: `Dense(activation=\"sigmoid\", units=1)`\n",
      "  \"\"\"Entry point for launching an IPython kernel.\n"
     ]
    }
   ],
   "source": [
    "classifier.add(Dense(output_dim=1,activation='sigmoid'))"
   ]
  },
  {
   "cell_type": "code",
   "execution_count": 9,
   "metadata": {},
   "outputs": [
    {
     "name": "stdout",
     "output_type": "stream",
     "text": [
      "WARNING:tensorflow:From C:\\Users\\Joshuva\\.conda\\envs\\tensorflow_cpu\\lib\\site-packages\\tensorflow\\python\\ops\\nn_impl.py:180: add_dispatch_support.<locals>.wrapper (from tensorflow.python.ops.array_ops) is deprecated and will be removed in a future version.\n",
      "Instructions for updating:\n",
      "Use tf.where in 2.0, which has the same broadcast rule as np.where\n"
     ]
    }
   ],
   "source": [
    "classifier.compile(optimizer='adam',loss='binary_crossentropy',metrics=['accuracy'])"
   ]
  },
  {
   "cell_type": "code",
   "execution_count": 10,
   "metadata": {},
   "outputs": [],
   "source": [
    "from keras.preprocessing.image import ImageDataGenerator"
   ]
  },
  {
   "cell_type": "code",
   "execution_count": 11,
   "metadata": {},
   "outputs": [],
   "source": [
    "train_datagen = ImageDataGenerator(rescale=1./255)\n",
    "test_datagen = ImageDataGenerator(rescale=1./255)"
   ]
  },
  {
   "cell_type": "code",
   "execution_count": 12,
   "metadata": {},
   "outputs": [
    {
     "name": "stdout",
     "output_type": "stream",
     "text": [
      "Found 8000 images belonging to 2 classes.\n"
     ]
    }
   ],
   "source": [
    "training_set = train_datagen.flow_from_directory('E:/Convolutional_Neural_Networks/dataset/training_set',\n",
    "                                                 target_size=(64,64),\n",
    "                                                batch_size=32,\n",
    "                                                class_mode='binary')"
   ]
  },
  {
   "cell_type": "code",
   "execution_count": 13,
   "metadata": {},
   "outputs": [
    {
     "name": "stdout",
     "output_type": "stream",
     "text": [
      "Found 2000 images belonging to 2 classes.\n"
     ]
    }
   ],
   "source": [
    "test_set = test_datagen.flow_from_directory('E:/Convolutional_Neural_Networks/dataset/test_set',\n",
    "                                                 target_size=(64,64),\n",
    "                                                batch_size=32,\n",
    "                                                class_mode='binary')"
   ]
  },
  {
   "cell_type": "code",
   "execution_count": 14,
   "metadata": {},
   "outputs": [
    {
     "name": "stderr",
     "output_type": "stream",
     "text": [
      "C:\\Users\\Joshuva\\.conda\\envs\\tensorflow_cpu\\lib\\site-packages\\ipykernel_launcher.py:5: UserWarning: The semantics of the Keras 2 argument `steps_per_epoch` is not the same as the Keras 1 argument `samples_per_epoch`. `steps_per_epoch` is the number of batches to draw from the generator at each epoch. Basically steps_per_epoch = samples_per_epoch/batch_size. Similarly `nb_val_samples`->`validation_steps` and `val_samples`->`steps` arguments have changed. Update your method calls accordingly.\n",
      "  \"\"\"\n",
      "C:\\Users\\Joshuva\\.conda\\envs\\tensorflow_cpu\\lib\\site-packages\\ipykernel_launcher.py:5: UserWarning: Update your `fit_generator` call to the Keras 2 API: `fit_generator(<keras.pre..., validation_data=<keras.pre..., steps_per_epoch=250, epochs=25, validation_steps=2000)`\n",
      "  \"\"\"\n"
     ]
    },
    {
     "name": "stdout",
     "output_type": "stream",
     "text": [
      "WARNING:tensorflow:From C:\\Users\\Joshuva\\.conda\\envs\\tensorflow_cpu\\lib\\site-packages\\keras\\backend\\tensorflow_backend.py:422: The name tf.global_variables is deprecated. Please use tf.compat.v1.global_variables instead.\n",
      "\n",
      "Epoch 1/25\n",
      "250/250 [==============================] - 414s 2s/step - loss: 0.6460 - accuracy: 0.6344 - val_loss: 0.6820 - val_accuracy: 0.6686\n",
      "Epoch 2/25\n",
      "250/250 [==============================] - 279s 1s/step - loss: 0.5175 - accuracy: 0.7437 - val_loss: 0.6505 - val_accuracy: 0.7075\n",
      "Epoch 3/25\n",
      "250/250 [==============================] - 283s 1s/step - loss: 0.4456 - accuracy: 0.7864 - val_loss: 0.4513 - val_accuracy: 0.7295\n",
      "Epoch 4/25\n",
      "250/250 [==============================] - 279s 1s/step - loss: 0.3726 - accuracy: 0.8345 - val_loss: 0.6703 - val_accuracy: 0.7255\n",
      "Epoch 5/25\n",
      "250/250 [==============================] - 301s 1s/step - loss: 0.2990 - accuracy: 0.8729 - val_loss: 0.5823 - val_accuracy: 0.7220\n",
      "Epoch 6/25\n",
      "250/250 [==============================] - 296s 1s/step - loss: 0.2243 - accuracy: 0.9104 - val_loss: 0.7990 - val_accuracy: 0.7133\n",
      "Epoch 7/25\n",
      "250/250 [==============================] - 297s 1s/step - loss: 0.1626 - accuracy: 0.9394 - val_loss: 0.9311 - val_accuracy: 0.7299\n",
      "Epoch 8/25\n",
      "250/250 [==============================] - 279s 1s/step - loss: 0.1125 - accuracy: 0.9649 - val_loss: 0.6953 - val_accuracy: 0.7201\n",
      "Epoch 9/25\n",
      "250/250 [==============================] - 302s 1s/step - loss: 0.0789 - accuracy: 0.9761 - val_loss: 1.5527 - val_accuracy: 0.7021\n",
      "Epoch 10/25\n",
      "250/250 [==============================] - 305s 1s/step - loss: 0.0527 - accuracy: 0.9855 - val_loss: 0.4545 - val_accuracy: 0.7296\n",
      "Epoch 11/25\n",
      "250/250 [==============================] - 302s 1s/step - loss: 0.0283 - accuracy: 0.9955 - val_loss: 0.5466 - val_accuracy: 0.7344\n",
      "Epoch 12/25\n",
      "250/250 [==============================] - 303s 1s/step - loss: 0.0169 - accuracy: 0.9981 - val_loss: 0.7985 - val_accuracy: 0.7308\n",
      "Epoch 13/25\n",
      "250/250 [==============================] - 300s 1s/step - loss: 0.0100 - accuracy: 0.9998 - val_loss: 1.4388 - val_accuracy: 0.7156\n",
      "Epoch 14/25\n",
      "250/250 [==============================] - 304s 1s/step - loss: 0.0068 - accuracy: 0.9994 - val_loss: 2.6502 - val_accuracy: 0.7332\n",
      "Epoch 15/25\n",
      "250/250 [==============================] - 303s 1s/step - loss: 0.0033 - accuracy: 0.9999 - val_loss: 1.5802 - val_accuracy: 0.7347\n",
      "Epoch 16/25\n",
      "250/250 [==============================] - 304s 1s/step - loss: 0.0021 - accuracy: 1.0000 - val_loss: 1.9329 - val_accuracy: 0.7314\n",
      "Epoch 17/25\n",
      "250/250 [==============================] - 303s 1s/step - loss: 0.0016 - accuracy: 1.0000 - val_loss: 1.0591 - val_accuracy: 0.7276\n",
      "Epoch 18/25\n",
      "250/250 [==============================] - 306s 1s/step - loss: 0.0012 - accuracy: 1.0000 - val_loss: 1.8176 - val_accuracy: 0.7282\n",
      "Epoch 19/25\n",
      "250/250 [==============================] - 298s 1s/step - loss: 9.4619e-04 - accuracy: 1.0000 - val_loss: 2.8835 - val_accuracy: 0.7300\n",
      "Epoch 20/25\n",
      "250/250 [==============================] - 307s 1s/step - loss: 7.2346e-04 - accuracy: 1.0000 - val_loss: 2.6181 - val_accuracy: 0.7303\n",
      "Epoch 21/25\n",
      "250/250 [==============================] - 303s 1s/step - loss: 6.0244e-04 - accuracy: 1.0000 - val_loss: 0.8759 - val_accuracy: 0.7297\n",
      "Epoch 22/25\n",
      "250/250 [==============================] - 288s 1s/step - loss: 4.8937e-04 - accuracy: 1.0000 - val_loss: 1.2692 - val_accuracy: 0.7314\n",
      "Epoch 23/25\n",
      "250/250 [==============================] - 285s 1s/step - loss: 4.1016e-04 - accuracy: 1.0000 - val_loss: 1.0915 - val_accuracy: 0.7299\n",
      "Epoch 24/25\n",
      "250/250 [==============================] - 286s 1s/step - loss: 3.3321e-04 - accuracy: 1.0000 - val_loss: 2.9554 - val_accuracy: 0.7295\n",
      "Epoch 25/25\n",
      "250/250 [==============================] - 338s 1s/step - loss: 2.8418e-04 - accuracy: 1.0000 - val_loss: 0.5136 - val_accuracy: 0.7294\n"
     ]
    },
    {
     "data": {
      "text/plain": [
       "<keras.callbacks.callbacks.History at 0x22658402198>"
      ]
     },
     "execution_count": 14,
     "metadata": {},
     "output_type": "execute_result"
    }
   ],
   "source": [
    "classifier.fit_generator(training_set,\n",
    "                         samples_per_epoch=8000,\n",
    "                        nb_epoch=25,\n",
    "                        validation_data=test_set,\n",
    "                        nb_val_samples=2000)"
   ]
  },
  {
   "cell_type": "code",
   "execution_count": 16,
   "metadata": {},
   "outputs": [],
   "source": [
    "import numpy as np\n",
    "from keras.preprocessing import image"
   ]
  },
  {
   "cell_type": "code",
   "execution_count": 20,
   "metadata": {},
   "outputs": [],
   "source": [
    "test_image = image.load_img('E:/__MACOSX/Convolutional_Neural_Networks/dataset/single_prediction/dog_vs_cat_01.jpg',target_size=(64,64))"
   ]
  },
  {
   "cell_type": "code",
   "execution_count": 21,
   "metadata": {},
   "outputs": [],
   "source": [
    "test_image = image.img_to_array(test_image)"
   ]
  },
  {
   "cell_type": "code",
   "execution_count": 22,
   "metadata": {},
   "outputs": [],
   "source": [
    "test_image = np.expand_dims(test_image,axis=0)"
   ]
  },
  {
   "cell_type": "code",
   "execution_count": 23,
   "metadata": {},
   "outputs": [],
   "source": [
    "result = classifier.predict(test_image)"
   ]
  },
  {
   "cell_type": "code",
   "execution_count": 24,
   "metadata": {},
   "outputs": [
    {
     "data": {
      "text/plain": [
       "{'cats': 0, 'dogs': 1}"
      ]
     },
     "execution_count": 24,
     "metadata": {},
     "output_type": "execute_result"
    }
   ],
   "source": [
    "training_set.class_indices"
   ]
  },
  {
   "cell_type": "code",
   "execution_count": 25,
   "metadata": {},
   "outputs": [],
   "source": [
    "if result[0][0] == 1:\n",
    "    prediction = 'dog'\n",
    "else:\n",
    "    prediction = 'cat'"
   ]
  },
  {
   "cell_type": "code",
   "execution_count": 26,
   "metadata": {},
   "outputs": [
    {
     "data": {
      "text/plain": [
       "'dog'"
      ]
     },
     "execution_count": 26,
     "metadata": {},
     "output_type": "execute_result"
    }
   ],
   "source": [
    "prediction"
   ]
  },
  {
   "cell_type": "code",
   "execution_count": null,
   "metadata": {},
   "outputs": [],
   "source": []
  }
 ],
 "metadata": {
  "kernelspec": {
   "display_name": "Python 3",
   "language": "python",
   "name": "python3"
  },
  "language_info": {
   "codemirror_mode": {
    "name": "ipython",
    "version": 3
   },
   "file_extension": ".py",
   "mimetype": "text/x-python",
   "name": "python",
   "nbconvert_exporter": "python",
   "pygments_lexer": "ipython3",
   "version": "3.7.3"
  }
 },
 "nbformat": 4,
 "nbformat_minor": 2
}
